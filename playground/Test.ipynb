{
 "cells": [
  {
   "cell_type": "code",
   "execution_count": 1,
   "metadata": {},
   "outputs": [],
   "source": [
    "%matplotlib inline\n",
    "import numpy as np\n",
    "import matplotlib.pyplot as plt\n",
    "import pandas as pd\n",
    "import datasets as ds"
   ]
  },
  {
   "cell_type": "code",
   "execution_count": 2,
   "metadata": {},
   "outputs": [],
   "source": [
    "def display_images(images_data, nrows=10, ncols=8):\n",
    "    fig, axes = plt.subplots(nrows=nrows, ncols=ncols, figsize=(16 * nrows, 16 * ncols))\n",
    "    axes = axes.reshape(nrows, ncols)\n",
    "    for i_row, row_axes in enumerate(axes):\n",
    "        for j, ax in enumerate(row_axes):\n",
    "            ax.imshow(images_data[i_row * len(row_axes) + j].reshape(56, 56, 3).astype(np.uint8))"
   ]
  },
  {
   "cell_type": "code",
   "execution_count": 3,
   "metadata": {},
   "outputs": [
    {
     "name": "stdout",
     "output_type": "stream",
     "text": [
      "loading data\n",
      "nb ones :  76949.0\n",
      "nb zeros :  12195.0\n",
      "nb data :  89144\n"
     ]
    }
   ],
   "source": [
    "train = ds.DataSet('Data/db_train_80.raw', nb_data=int(111430 * 0.8), filename_labels='Data/label_train_80.txt',\n",
    "                   batch_size=256, balance=True)"
   ]
  },
  {
   "cell_type": "code",
   "execution_count": 9,
   "metadata": {},
   "outputs": [],
   "source": [
    "x, y = train.next_training_batch()\n",
    "y = np.argmax(y, 1)"
   ]
  },
  {
   "cell_type": "code",
   "execution_count": 10,
   "metadata": {},
   "outputs": [],
   "source": [
    "ones = x[y == 1]\n",
    "zeros = x[y == 0]"
   ]
  },
  {
   "cell_type": "code",
   "execution_count": null,
   "metadata": {},
   "outputs": [],
   "source": [
    "display_images(ones)"
   ]
  }
 ],
 "metadata": {
  "kernelspec": {
   "display_name": "MDI720",
   "language": "python",
   "name": "mdi720"
  },
  "language_info": {
   "codemirror_mode": {
    "name": "ipython",
    "version": 3
   },
   "file_extension": ".py",
   "mimetype": "text/x-python",
   "name": "python",
   "nbconvert_exporter": "python",
   "pygments_lexer": "ipython3",
   "version": "3.6.3"
  }
 },
 "nbformat": 4,
 "nbformat_minor": 2
}
